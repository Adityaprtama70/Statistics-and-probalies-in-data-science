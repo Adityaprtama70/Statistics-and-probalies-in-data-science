{
  "nbformat": 4,
  "nbformat_minor": 0,
  "metadata": {
    "colab": {
      "provenance": []
    },
    "kernelspec": {
      "name": "python3",
      "display_name": "Python 3"
    },
    "language_info": {
      "name": "python"
    }
  },
  "cells": [
    {
      "cell_type": "code",
      "execution_count": 1,
      "metadata": {
        "id": "xBHeJQ_ORh_b"
      },
      "outputs": [],
      "source": [
        "import numpy as np"
      ]
    },
    {
      "cell_type": "code",
      "source": [
        "ukuran = (510, 550, 620, 630, 655, 700, 780, 800, 920, 1000)\n",
        "tarif_internet = (8, 50, 7, 24, 100, 8, 7, 50, 8, 24)\n",
        "harga_sewa = (320, 385, 400, 392, 380, 410, 480, 600, 570, 620)"
      ],
      "metadata": {
        "id": "2IsORvl2SIdU"
      },
      "execution_count": 2,
      "outputs": []
    },
    {
      "cell_type": "code",
      "source": [
        "median_ukuran = np.median(ukuran)\n",
        "median_tarif_internet = np.median(tarif_internet)\n",
        "median_harga_sewa = np.median(harga_sewa)\n"
      ],
      "metadata": {
        "id": "cmadf8qZSKyh"
      },
      "execution_count": 3,
      "outputs": []
    },
    {
      "cell_type": "code",
      "source": [
        "print(\"Median ukuran ruang kantor = {}\".format(median_ukuran))\n",
        "print(\"Median tarif internet = {}\".format(median_tarif_internet))\n",
        "print(\"Median harga sewa per bulan = {}\".format(median_harga_sewa))"
      ],
      "metadata": {
        "colab": {
          "base_uri": "https://localhost:8080/"
        },
        "id": "39P_MQ2HSM-a",
        "outputId": "80d94f94-1fcf-4589-8602-24da16fcd28c"
      },
      "execution_count": 4,
      "outputs": [
        {
          "output_type": "stream",
          "name": "stdout",
          "text": [
            "Median ukuran ruang kantor = 677.5\n",
            "Median tarif internet = 16.0\n",
            "Median harga sewa per bulan = 405.0\n"
          ]
        }
      ]
    }
  ]
}