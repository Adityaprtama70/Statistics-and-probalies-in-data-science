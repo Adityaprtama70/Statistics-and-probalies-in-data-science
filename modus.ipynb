{
  "nbformat": 4,
  "nbformat_minor": 0,
  "metadata": {
    "colab": {
      "provenance": []
    },
    "kernelspec": {
      "name": "python3",
      "display_name": "Python 3"
    },
    "language_info": {
      "name": "python"
    }
  },
  "cells": [
    {
      "cell_type": "code",
      "execution_count": 1,
      "metadata": {
        "id": "EWABKmBbWdhU"
      },
      "outputs": [],
      "source": [
        "from collections import Counter"
      ]
    },
    {
      "cell_type": "code",
      "source": [
        "ukuran = (510, 550, 620, 630, 655, 700, 780, 800, 920, 1000)\n",
        "tarif_internet = (8, 50, 7, 24, 100, 8, 7, 50, 8, 24)\n",
        "harga_sewa = (320, 385, 400, 392, 380, 410, 480, 600, 570, 620)"
      ],
      "metadata": {
        "id": "PESkt6pOW2V_"
      },
      "execution_count": 2,
      "outputs": []
    },
    {
      "cell_type": "code",
      "source": [
        "# Mencari modus dari data ukuran ruang kantor\n",
        "ukuran_counter = Counter(ukuran)\n",
        "ukuran_modus = [k for k, v in ukuran_counter.items() if v == max(list(ukuran_counter.values()))]\n",
        "print(\"Modus dari data ukuran ruang kantor:\", ukuran_modus)"
      ],
      "metadata": {
        "colab": {
          "base_uri": "https://localhost:8080/"
        },
        "id": "DNeXYXHMW6FK",
        "outputId": "a377e6f1-ef79-4c2f-f9a9-4ce779ffb505"
      },
      "execution_count": 3,
      "outputs": [
        {
          "output_type": "stream",
          "name": "stdout",
          "text": [
            "Modus dari data ukuran ruang kantor: [510, 550, 620, 630, 655, 700, 780, 800, 920, 1000]\n"
          ]
        }
      ]
    },
    {
      "cell_type": "code",
      "source": [
        "# Mencari modus dari data tarif internet\n",
        "tarif_internet_counter = Counter(tarif_internet)\n",
        "tarif_internet_modus = [k for k, v in tarif_internet_counter.items() if v == max(list(tarif_internet_counter.values()))]\n",
        "print(\"Modus dari data tarif internet:\", tarif_internet_modus)"
      ],
      "metadata": {
        "colab": {
          "base_uri": "https://localhost:8080/"
        },
        "id": "x9e9--knW8f3",
        "outputId": "3da87aad-7500-48c6-932e-08a74d9f4d85"
      },
      "execution_count": 4,
      "outputs": [
        {
          "output_type": "stream",
          "name": "stdout",
          "text": [
            "Modus dari data tarif internet: [8]\n"
          ]
        }
      ]
    },
    {
      "cell_type": "code",
      "source": [
        "# Mencari modus dari data harga sewa per bulan\n",
        "harga_sewa_counter = Counter(harga_sewa)\n",
        "harga_sewa_modus = [k for k, v in harga_sewa_counter.items() if v == max(list(harga_sewa_counter.values()))]\n",
        "print(\"Modus dari data harga sewa per bulan:\", harga_sewa_modus)"
      ],
      "metadata": {
        "colab": {
          "base_uri": "https://localhost:8080/"
        },
        "id": "Nbs0UNRCXAWe",
        "outputId": "1d70df80-b3b1-4664-e885-e11bd76bbf27"
      },
      "execution_count": 5,
      "outputs": [
        {
          "output_type": "stream",
          "name": "stdout",
          "text": [
            "Modus dari data harga sewa per bulan: [320, 385, 400, 392, 380, 410, 480, 600, 570, 620]\n"
          ]
        }
      ]
    }
  ]
}