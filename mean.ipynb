{
  "nbformat": 4,
  "nbformat_minor": 0,
  "metadata": {
    "colab": {
      "provenance": []
    },
    "kernelspec": {
      "name": "python3",
      "display_name": "Python 3"
    },
    "language_info": {
      "name": "python"
    }
  },
  "cells": [
    {
      "cell_type": "code",
      "execution_count": 1,
      "metadata": {
        "id": "bf9McQRhMyIh"
      },
      "outputs": [],
      "source": [
        "import numpy as np\n",
        "import matplotlib.pyplot as plt"
      ]
    },
    {
      "cell_type": "code",
      "source": [
        "# Data ukuran ruang kantor, tarif internet, dan harga sewa per bulan\n",
        "ukuran = np.array([510, 550, 620, 630, 655, 700, 780, 800, 920, 1000])\n",
        "tarif_internet = np.array([8, 50, 7, 24, 100, 8, 7, 50, 8, 24])\n",
        "harga_sewa = np.array([320, 385, 400, 392, 380, 410, 480, 600, 570, 620])"
      ],
      "metadata": {
        "id": "FuTzIbVtNUST"
      },
      "execution_count": 2,
      "outputs": []
    },
    {
      "cell_type": "code",
      "source": [
        "# Hitung nilai mean atau rata-rata dari setiap data\n",
        "mean_ukuran = np.mean(ukuran)\n",
        "mean_tarif_internet = np.mean(tarif_internet)\n",
        "mean_harga_sewa = np.mean(harga_sewa)"
      ],
      "metadata": {
        "id": "MPLTU7w2NZ08"
      },
      "execution_count": 3,
      "outputs": []
    },
    {
      "cell_type": "code",
      "source": [
        "# Tampilkan nilai mean-nya\n",
        "print(\"Nilai mean ukuran ruang kantor:\", mean_ukuran)\n",
        "print(\"Nilai mean tarif internet:\", mean_tarif_internet)\n",
        "print(\"Nilai mean harga sewa per bulan:\", mean_harga_sewa)"
      ],
      "metadata": {
        "colab": {
          "base_uri": "https://localhost:8080/"
        },
        "id": "k7MYY_irNcj3",
        "outputId": "43898336-466d-49f2-957e-ffd1b9016ddf"
      },
      "execution_count": 4,
      "outputs": [
        {
          "output_type": "stream",
          "name": "stdout",
          "text": [
            "Nilai mean ukuran ruang kantor: 716.5\n",
            "Nilai mean tarif internet: 28.6\n",
            "Nilai mean harga sewa per bulan: 455.7\n"
          ]
        }
      ]
    },
    {
      "cell_type": "code",
      "source": [
        "\n",
        "# Visualisasi data dengan histogram\n",
        "fig, ax = plt.subplots(1, 3, figsize=(12, 4))\n",
        "ax[0].hist(ukuran)\n",
        "ax[0].set_title(\"Ukuran Ruang Kantor\")\n",
        "ax[1].hist(tarif_internet)\n",
        "ax[1].set_title(\"Tarif Internet\")\n",
        "ax[2].hist(harga_sewa)\n",
        "ax[2].set_title(\"Harga Sewa per Bulan\")\n",
        "plt.show()"
      ],
      "metadata": {
        "colab": {
          "base_uri": "https://localhost:8080/",
          "height": 281
        },
        "id": "fWMVCkRhNjth",
        "outputId": "91621c13-f3a8-4e2d-87c4-a239042ece5b"
      },
      "execution_count": 5,
      "outputs": [
        {
          "output_type": "display_data",
          "data": {
            "text/plain": [
              "<Figure size 864x288 with 3 Axes>"
            ],
            "image/png": "[encoded data removed]"
          },
          "metadata": {
            "needs_background": "light"
          }
        }
      ]
    }
  ]
}